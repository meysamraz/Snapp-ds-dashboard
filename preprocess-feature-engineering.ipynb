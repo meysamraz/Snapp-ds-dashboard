{
 "cells": [
  {
   "cell_type": "markdown",
   "id": "b134e8a5-83ca-4f6b-b3eb-44c24d8e60e6",
   "metadata": {},
   "source": [
    "# Preprocess scrapped and feature engineering Snapp data \n",
    "### 1 - Drop canceld travels \n",
    "### 2 - Extract destination location from data  \n",
    "### 3 - Extract origin city (translated in english)\n",
    "### 4 - Extract date and convert it form jalali (persain date unit into gregorian) \n",
    "### 5 - Translate car model in English\n",
    "### 6 - Convert travel cost from rial to toman and translate it (English)\n",
    "### 7 - Split Curreny from price \n",
    "### 8 - Drop uneeded columns  \n",
    "### 9 - Save data into csv file  "
   ]
  },
  {
   "cell_type": "code",
   "execution_count": 2,
   "id": "51d5b178-aa87-43e9-a81a-47322851f8f1",
   "metadata": {},
   "outputs": [],
   "source": [
    "# for convert Jalali date\n",
    "from persiantools.jdatetime import JalaliDate\n",
    "\n",
    "# translate data to english\n",
    "from deep_translator import GoogleTranslator\n",
    "\n",
    "# convert num unit\n",
    "from unidecode import unidecode\n",
    "\n",
    "# preprocess data \n",
    "import pandas as pd"
   ]
  },
  {
   "cell_type": "code",
   "execution_count": 3,
   "id": "39dbe05c-6668-4f42-8c44-1aa35de89874",
   "metadata": {},
   "outputs": [],
   "source": [
    "# read datasets\n",
    "df_sum = pd.read_csv('snapp_summary.csv')\n",
    "df_history = pd.read_csv('travel_history.csv')"
   ]
  },
  {
   "cell_type": "code",
   "execution_count": 3,
   "id": "ec6cb437-dc82-45df-8ddd-0e5a2eae52a0",
   "metadata": {},
   "outputs": [
    {
     "data": {
      "text/html": [
       "<div>\n",
       "<style scoped>\n",
       "    .dataframe tbody tr th:only-of-type {\n",
       "        vertical-align: middle;\n",
       "    }\n",
       "\n",
       "    .dataframe tbody tr th {\n",
       "        vertical-align: top;\n",
       "    }\n",
       "\n",
       "    .dataframe thead th {\n",
       "        text-align: right;\n",
       "    }\n",
       "</style>\n",
       "<table border=\"1\" class=\"dataframe\">\n",
       "  <thead>\n",
       "    <tr style=\"text-align: right;\">\n",
       "      <th></th>\n",
       "      <th>day_title</th>\n",
       "      <th>car</th>\n",
       "      <th>price</th>\n",
       "      <th>date</th>\n",
       "      <th>date_time</th>\n",
       "      <th>origin</th>\n",
       "      <th>destination</th>\n",
       "      <th>star</th>\n",
       "    </tr>\n",
       "  </thead>\n",
       "  <tbody>\n",
       "    <tr>\n",
       "      <th>0</th>\n",
       "      <td>سفر شنبه شب ۲۹ مرداد</td>\n",
       "      <td>پراید</td>\n",
       "      <td>۱۷۰٬۰۰۰ ریال</td>\n",
       "      <td>۲۹ مرداد ۱۴۰۱</td>\n",
       "      <td>۲۹ مرداد ۱۴۰۱</td>\n",
       "      <td>آبادان، امیری، شهید محمد منتظری، بعد از دوم، س...</td>\n",
       "      <td>آبادان، کوی کارگر، بلوار دهداری، f27</td>\n",
       "      <td>5</td>\n",
       "    </tr>\n",
       "  </tbody>\n",
       "</table>\n",
       "</div>"
      ],
      "text/plain": [
       "              day_title    car         price           date      date_time  \\\n",
       "0  سفر شنبه شب ۲۹ مرداد  پراید  ۱۷۰٬۰۰۰ ریال  ۲۹ مرداد ۱۴۰۱  ۲۹ مرداد ۱۴۰۱   \n",
       "\n",
       "                                              origin  \\\n",
       "0  آبادان، امیری، شهید محمد منتظری، بعد از دوم، س...   \n",
       "\n",
       "                            destination  star  \n",
       "0  آبادان، کوی کارگر، بلوار دهداری، f27     5  "
      ]
     },
     "execution_count": 3,
     "metadata": {},
     "output_type": "execute_result"
    }
   ],
   "source": [
    "df_history.head(1)"
   ]
  },
  {
   "cell_type": "code",
   "execution_count": 4,
   "id": "54caac3e-8a53-4912-af45-818ba34093bc",
   "metadata": {},
   "outputs": [
    {
     "data": {
      "text/plain": [
       "car                     0\n",
       "date                    0\n",
       "star                    0\n",
       "origin_city             0\n",
       "price                   0\n",
       "currency                0\n",
       "origin_location         0\n",
       "destination_location    0\n",
       "dtype: int64"
      ]
     },
     "execution_count": 4,
     "metadata": {},
     "output_type": "execute_result"
    }
   ],
   "source": [
    "# check is there any null value \n",
    "df_history.isnull().sum()"
   ]
  },
  {
   "cell_type": "code",
   "execution_count": 5,
   "id": "46687dfd-e376-4f27-8903-67db8e85745d",
   "metadata": {},
   "outputs": [
    {
     "data": {
      "text/plain": [
       "Travel Hours     0\n",
       "Travel Counts    0\n",
       "Travel Km        0\n",
       "date             0\n",
       "dtype: int64"
      ]
     },
     "execution_count": 5,
     "metadata": {},
     "output_type": "execute_result"
    }
   ],
   "source": [
    "# check is there any null value \n",
    "\n",
    "df_sum.isnull().sum()"
   ]
  },
  {
   "cell_type": "markdown",
   "id": "802645ba-19a3-47d5-8aea-13b38e7a4936",
   "metadata": {},
   "source": [
    "## 1 - Drop canceld travels"
   ]
  },
  {
   "cell_type": "code",
   "execution_count": 4,
   "id": "a4834e1d-305c-4cc6-bb18-5759ae2c2907",
   "metadata": {},
   "outputs": [],
   "source": [
    "# if str contains \"لغو شده\" drop it\n",
    "df_history = df_history[df_history[\"day_title\"].str.contains(\"لغو شده\")==False]"
   ]
  },
  {
   "cell_type": "markdown",
   "id": "53ceedca-4907-4e0e-8c2a-ea9d3a85a61a",
   "metadata": {},
   "source": [
    "### 2 - Extract destination location from data"
   ]
  },
  {
   "cell_type": "code",
   "execution_count": 5,
   "id": "1ac7bcf4-ab27-4c87-8951-433eecbab00a",
   "metadata": {},
   "outputs": [],
   "source": [
    "df_history['destination_location'] = df_history['destination'].apply(lambda x : x.split(\"،\")[1] + ',' + x.split(\"،\")[0])"
   ]
  },
  {
   "cell_type": "markdown",
   "id": "2bfbe547-2bec-4e6a-988c-3e127ab7fdb6",
   "metadata": {},
   "source": [
    "### 3 - Extract origin city (translated in english)"
   ]
  },
  {
   "cell_type": "code",
   "execution_count": 7,
   "id": "e32da33b-6a94-4d82-8098-14ac194af569",
   "metadata": {
    "tags": []
   },
   "outputs": [],
   "source": [
    "df_history['origin_city'] = df_history['origin'].apply(lambda x : GoogleTranslator(source='fa', target='en').translate(x.split(\"،\")[0]))"
   ]
  },
  {
   "cell_type": "code",
   "execution_count": 8,
   "id": "52a5f444-d10d-41df-bb41-c42cac502d04",
   "metadata": {
    "tags": []
   },
   "outputs": [],
   "source": [
    "df_history['origin_location'] = df_history['origin'].apply(lambda x : x.split(\"،\")[1])"
   ]
  },
  {
   "cell_type": "markdown",
   "id": "6bbc5a99-1eb0-4d1e-b0b1-878755d007ba",
   "metadata": {},
   "source": [
    "### 4 - Extract date and convert it form jalali (persain date unit into gregorian)"
   ]
  },
  {
   "cell_type": "code",
   "execution_count": 9,
   "id": "d3ad1cca-3a7c-47b3-ba0f-cde38ab4c540",
   "metadata": {},
   "outputs": [],
   "source": [
    "def convert_date(month,day,yaer):\n",
    "    \"\"\"\n",
    "    This funciton convert persain date like \"6 1401 خرداد\" to gregorian \"2022-5-7\"\n",
    "    Params:\n",
    "    \n",
    "    month: Jalali month name \n",
    "    day: Jalali day date\n",
    "    yaer: Jalali year date like \"1401\"\n",
    "    \n",
    "    Returns:\n",
    "    Converted jalali date to gregorian\n",
    "    \n",
    "    \"\"\"\n",
    "    date_dict = {1  : 'فروردین',\n",
    "                 2  : 'اردیبهشت',\n",
    "                 3  : 'خرداد',\n",
    "                 4  : 'تیر',\n",
    "                 5  : 'مرداد',\n",
    "                 6  : 'شهریور',\n",
    "                 7  : 'مهر',\n",
    "                 8  : 'آبان',\n",
    "                 9  : 'آذر',\n",
    "                 10 : 'دی',\n",
    "                 11 : 'بهمن',\n",
    "                 12 : 'اسفند' }\n",
    "    for key, value in date_dict.items():\n",
    "        month = month.replace(value,str(key))\n",
    "    yaer =  unidecode(yaer)\n",
    "    day =  unidecode(day)\n",
    "    converted_date =JalaliDate(int(yaer), int(month), int(day)).to_gregorian()\n",
    "    return converted_date"
   ]
  },
  {
   "cell_type": "code",
   "execution_count": 10,
   "id": "b266c10e-2c6d-4e4a-8547-1c8c344e040e",
   "metadata": {},
   "outputs": [],
   "source": [
    "df_history['date'] = df_history['date'].apply(lambda x : convert_date(x.split(' ')[1],x.split(' ')[0],x.split(' ')[2]))"
   ]
  },
  {
   "cell_type": "markdown",
   "id": "55252679-3bd4-490b-820d-5da3a9a4344c",
   "metadata": {},
   "source": [
    "### 5 - Translate car model in English"
   ]
  },
  {
   "cell_type": "code",
   "execution_count": 11,
   "id": "e90edf4f-e3ca-4157-a7a2-ab68b5936818",
   "metadata": {},
   "outputs": [],
   "source": [
    "df_history['car'] = df_history['car'].apply(lambda x : GoogleTranslator(source='fa', target='en').translate(x))"
   ]
  },
  {
   "cell_type": "markdown",
   "id": "b6a8878d-af33-45b3-8866-70371db7b8a1",
   "metadata": {},
   "source": [
    "### 6 - Convert travel cost from rial to toman and translate it (English)"
   ]
  },
  {
   "cell_type": "code",
   "execution_count": 12,
   "id": "d458adc7-4e5d-4fc1-8db0-f860c85a7875",
   "metadata": {},
   "outputs": [],
   "source": [
    "df_history['price'] = df_history['price'].apply(lambda x : GoogleTranslator(source='fa', target='en').translate(x))"
   ]
  },
  {
   "cell_type": "code",
   "execution_count": 13,
   "id": "5370895d-161d-4ca4-acf4-39765647740b",
   "metadata": {},
   "outputs": [],
   "source": [
    "df_history['price'] = df_history['price'].apply(lambda x : x.split(' ')[0].replace(\",\", \"\")[:-1] + ' ' + 'toman')"
   ]
  },
  {
   "cell_type": "markdown",
   "id": "76cbb9d6-90ad-4827-8eed-64a3e00b61fd",
   "metadata": {},
   "source": [
    "### 7 - Split Curreny from price"
   ]
  },
  {
   "cell_type": "code",
   "execution_count": 15,
   "id": "f837262a-ec08-48f3-8125-c1e8f657e012",
   "metadata": {},
   "outputs": [],
   "source": [
    "df_history['currency'] = df_history['price'].apply(lambda x : x.split(' ')[1])\n",
    "df_history['price'] = df_history['price'].apply(lambda x : int(x.split(' ')[0]))"
   ]
  },
  {
   "cell_type": "markdown",
   "id": "b83e1447-5fb2-41b2-868b-6608ab36c692",
   "metadata": {},
   "source": [
    "### 8 - Drop uneeded columns"
   ]
  },
  {
   "cell_type": "code",
   "execution_count": 17,
   "id": "f1759297-a0be-464c-b511-cefeda2f1d9a",
   "metadata": {},
   "outputs": [],
   "source": [
    "df_history=df_history[['car','date','star','origin_city','price','currency','origin_location','destination_location']]"
   ]
  },
  {
   "cell_type": "markdown",
   "id": "bda7599e-28f1-4726-a487-08596434d825",
   "metadata": {},
   "source": [
    "### 9 - Save data into csv file"
   ]
  },
  {
   "cell_type": "code",
   "execution_count": 19,
   "id": "c8f7fcc6-9b42-4390-aa69-d93f29903326",
   "metadata": {},
   "outputs": [],
   "source": [
    "df_history.to_csv('travel_history.csv',index=False)"
   ]
  }
 ],
 "metadata": {
  "kernelspec": {
   "display_name": "tf25",
   "language": "python",
   "name": "tf25"
  },
  "language_info": {
   "codemirror_mode": {
    "name": "ipython",
    "version": 3
   },
   "file_extension": ".py",
   "mimetype": "text/x-python",
   "name": "python",
   "nbconvert_exporter": "python",
   "pygments_lexer": "ipython3",
   "version": "3.8.10"
  }
 },
 "nbformat": 4,
 "nbformat_minor": 5
}
